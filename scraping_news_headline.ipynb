{
 "cells": [
  {
   "cell_type": "code",
   "execution_count": 1,
   "id": "59ec06b9-bee3-41d7-93cf-6eb9088d7492",
   "metadata": {
    "tags": []
   },
   "outputs": [],
   "source": [
    "import feedparser\n",
    "import csv"
   ]
  },
  {
   "cell_type": "code",
   "execution_count": 2,
   "id": "400acc0b-fe89-476f-bfbe-a3c978397b24",
   "metadata": {
    "tags": []
   },
   "outputs": [],
   "source": [
    "def get_news_headlines():\n",
    "    rss_url = \"https://www.theguardian.com/news/rss\"\n",
    "    feed = feedparser.parse(rss_url)\n",
    "    headlines = []\n",
    "    for entry in feed.entries:\n",
    "        headlines.append(entry.title)\n",
    "    \n",
    "    return headlines"
   ]
  },
  {
   "cell_type": "code",
   "execution_count": 3,
   "id": "59790b68-fcd6-497e-a36e-fcf2099c1ee8",
   "metadata": {
    "tags": []
   },
   "outputs": [],
   "source": [
    "# Guardian gazetesinin haber başlıklarını aldık\n",
    "news_headlines = get_news_headlines()"
   ]
  },
  {
   "cell_type": "code",
   "execution_count": 4,
   "id": "14cff12c-34b6-436d-af00-f6cd5fc7ced2",
   "metadata": {
    "tags": []
   },
   "outputs": [
    {
     "name": "stdout",
     "output_type": "stream",
     "text": [
      "1. Top Tory MP defects to Labour in fury at NHS crisis\n",
      "2. Threat of summer poll a tactic to ward off Sunak revolt, say senior Tories\n",
      "3. Disgraced former Hollywood producer Harvey Weinstein hospitalized\n",
      "4. ‘Indefensible’: UK prisoner jailed for 23 months killed himself after being held for 17 years\n",
      "5. London’s Central drama school axes audition fees to end elite grip on the arts\n",
      "6. Sunak: rise in asylum seekers in Ireland proves Rwanda plan ‘having impact’\n",
      "7. Spain’s PM Sánchez could quit after far-right attacks on wife and bid to ‘politically kill’ him\n",
      "8. Kristi Noem dogged by poor polling amid fallout from tale of killing puppy\n",
      "9. ‘Almost beyond belief’: axing of UK teacher recruitment scheme will worsen crisis, say critics\n",
      "10. Gold pocket watch of richest man on Titanic fetches record-breaking £1.2m\n",
      "11. ‘It would be seismic to win in Sunak’s backyard’: is Labour about to paint England red?\n",
      "12. ‘Eugenics on steroids’: the toxic and contested legacy of Oxford’s Future of Humanity Institute\n",
      "13. I am resigning from the Tory party and joining Labour: only it wants to restore our NHS | Dan Poulter\n",
      "14. ‘I was always able to get away with things’: Daniel Mays on playing bent coppers, acting opposite Michael Douglas, and working-class bias\n",
      "15. I’ve lost contact with my brother. Is it too late to reach out? | Ask Philippa\n",
      "16. Medlock Canteen, Manchester: ‘Dishes that are the best versions of themselves’ – restaurant review\n",
      "17. From petri dish to plate: meet the company hoping to bring lab-grown fish to the table\n",
      "18. Sunday with Fay Ripley: ‘I’m a feeder – breakfast, brunch, snacks, roast’\n",
      "19. The demise of Twitter: how a ‘utopian vision’ for social media became a ‘toxic mess’\n",
      "20. TV tonight: Claudia Winkleman’s feelgood music competition is back\n",
      "21. Hitting the flor: the secrets behind sherry’s tangy appeal\n",
      "22. John Mitchell’s new England pass French test and will only get better | Robert Kitson\n",
      "23. Bukayo Saka: ‘The hunger to win keeps me going, that’s why I keep getting up’\n",
      "24. ‘There’s going to be fire if I speak’: Salah adds fuel to touchline row with Klopp\n",
      "25. Emma Hayes sees Champions League dreams washed away in the rain | Sophie Downey\n",
      "26. Idrissa Gueye’s strike sinks Brentford and ensures Everton’s safety\n",
      "27. European football: Harry Kane reaches new best, Leverkusen stay unbeaten\n",
      "28. Championship roundup: Hull fight back to dent Ipswich’s promotion challenge\n",
      "29. Rafael Nadal delivers a timely reminder of his calibre to delight home crowd\n",
      "30. Tony Blair had it, Boris Johnson too... the quality that wins Angela Rayner support despite her gaffes | Martha Gill\n",
      "31. How can Labour fix Britain’s ‘economic failure’ without rejoining the EU? | William Keegan\n",
      "32. Lost civilisations make good TV, but archaeology’s real stories hold far more wonder | Flint Dibble\n",
      "33. Chris Riddell on how one-word Ofsted assessments would apply to the Tory party – cartoon\n",
      "34. Social media lies can unleash a dangerous contempt for others. We can stop it | Max Jeganathan\n",
      "35. Did five frightened horses bolting through London really mean the end was neigh? | Michael Hogan\n",
      "36. It’s immoral to push children into poverty, but that’s what the benefits cap does | Torsten Bell\n",
      "37. Civil War is a terrifying film, but Trump: The Sequel will be a real-life horror show | Simon Tisdall\n",
      "38. The Observer view on overtourism: sometimes, the planet’s hotspots are best left unvisited\n",
      "39. We must learn the lessons of Covid before another deadly disease strikes | Letters\n",
      "40. The Observer view on Dan Poulter and the failing Conservative government | Observer Editorial\n",
      "41. The Guardian view on patriotism and the Last Night of the Proms: time for a change\n",
      "42. Sadiq Khan’s green credentials may be critical in London mayoral election\n",
      "43. Wave of exceptionally hot weather scorches south and south-east Asia\n",
      "44. Weather tracker: heavy rainfall causes flooding and death in east Africa\n",
      "45. Global heating and urbanisation to blame for severity of UAE floods, study finds\n",
      "46. Revealed: UK government was warned of infected blood risks in 1970s\n",
      "47. Lancashire town locked down ‘after grenade donated to heritage centre’\n",
      "48. Tory staff running network of anti-Ulez Facebook groups riddled with racism and abuse\n",
      "49. Body found more than a year after man disappeared from Highlands village\n",
      "50. Rageh Omaar says he was ‘determined to finish’ after becoming unwell on air\n",
      "51. UK weighing sending troops into Gaza to distribute aid\n",
      "52. SNP split from Greens boosts Keir Starmer’s election chances, say Labour insiders\n",
      "53. Jacob Rees-Mogg says university protests against him were ‘legitimate, if noisy’\n",
      "54. Wonky Waitrose billboard fenced off by London council as stunt backfires\n",
      "55. Teenager finds ‘holy grail’ Lego octopus from 1997 spill off Cornwall coast\n",
      "56. Anger at party funding scandal in Japan threatens to bring down PM Kishida\n",
      "57. Sanders hits back at Netanyahu: ‘It is not antisemitic to hold you accountable’\n",
      "58. Two Russian journalists arrested over alleged work for Alexei Navalny foundation\n",
      "59. Portugal rejects suggestion to pay reparations for slavery after comments from president\n",
      "60. Ammunition explosion at Cambodia military base kills 20 soldiers\n",
      "61. Chinese jets fly sorties over Taiwan strait in show of force as US delegation departs\n",
      "62. South Africa marks 30 years since apartheid amid growing discontent\n",
      "63. Ukraine war briefing: Russian airstrikes pound central and western Ukrainian power facilities\n",
      "64. Baltimore teacher accused of using AI to create fake, racist recording of principal\n",
      "65. Iraq makes same-sex relations punishable by up to 15 years in jail\n",
      "66. Waiting for the Monsoon by Rod Nordland review – a war reporter finds a ‘second life’ in the shadow of death\n",
      "67. ‘These people matter’: why Diana Matar photographs the sites where US police have killed civilians\n",
      "68. Moses McKenzie: ‘I was thinking about the predicament of the black British diaspora’\n",
      "69. ‘There’s history in these walls’: is Mojos in Fremantle Australia’s best music venue?\n",
      "70. ‘Dismissing global warming? That was a joke’: Jeremy Clarkson on fury, farming and why he’s a changed man\n",
      "71. A room of her own: Mona Lisa could be moved, says Louvre\n",
      "72. Thousand island blessing: the wonders of Croatia’s sun-soaked shores\n",
      "73. Cultural marveller or foodie explorer – what’s your travel personality type? Take our quiz to find out\n",
      "74. Festivals, folklore, art and food: Croatia’s unmissable cultural highlights\n",
      "75. From stunning hikes to secluded wild swimming coves: seven reasons why Croatia is a must for adventure lovers\n",
      "76. The moment I knew: he kissed me goodnight – then rang to make sure I saw the moon\n",
      "77. Eyebrows that hit a high note\n",
      "78. Like father, like son? The complex factors that shape a parent’s influence on their child\n",
      "79. The plots thicken\n",
      "80. Editors’ picks: How to style a knitted tank top for summer 5 ways – in pictures\n",
      "81. Ask Ottolenghi: what’s the best way to get a garlicky flavour into tomato pasta sauce?\n",
      "82. Tell us: have you been affected by whooping cough?\n",
      "83. Ukrainian men abroad: share your views on Poland and Lithuania’s statements on conscription\n",
      "84. Share your experience of accessing private medical care in the UK\n",
      "85. Tell us: what’s your favourite everyday gadget?\n",
      "86. ‘Everyone knows something’s going to happen’: fears of a new war on Israel’s border with Lebanon\n",
      "87. She was told her babies were dead. Instead they were sold abroad. What happened when she met them 40 years on?\n",
      "88. ‘Like a war zone’: Emory University grapples with fallout from police response to protest\n",
      "89. How one Wisconsin man plagued election offices and stoked mistrust\n",
      "90. How the Trump trial is playing in Maga world: sublime indifference, collective shrug\n",
      "91. ‘Demolishing democracy’: how much danger does Christian nationalism pose?\n",
      "92. London Gaza protest: has row over ‘openly Jewish’ remark changed the march’s mood?\n",
      "93. ‘My mum gave the injections that killed my brothers’: how UK’s infected blood scandal has torn lives apart\n",
      "94. It’s 20 years since the UK hit ‘peak booze’. The hangover is still with us\n",
      "95. The ‘boring phone’: stressed-out gen Z ditch smartphones for dumbphones\n",
      "96. Police clash with US students protesting against war in Gaza  – video\n",
      "97. Reports of mass graves at Gaza hospitals 'horrify' UN rights experts – video\n",
      "98. What's behind the fight between Elon Musk's X and Australia's eSafety commissioner? – video\n",
      "99. Our lives in the UK asylum system: 'the power of fear'  – video\n",
      "100. Why Prague's homeless are resorting to poverty tourism – video\n",
      "101. How cruise ships became a catastrophe for the planet – video\n",
      "102. Weekend podcast: ‘I was hammered on stage’ – David Harewood on racism and success; John Crace on ‘tetchy’ Rishi; the answer to insomnia hell; and Baby Reindeer fall out\n",
      "103. Solidarity and strategy: the forgotten lessons of truly effective protest – podcast\n",
      "104. White House correspondents dinner: is there still space for humour?\n",
      "105. The US college protests and the crackdown on campuses - podcast\n",
      "106. Have Everton dashed Liverpool’s title dreams? – Football Weekly Extra\n",
      "107. From birds, to cattle, to … us? Could bird flu be the next pandemic? – podcast\n",
      "108. Arsenal thrash Chelsea and a Football League update – Football Weekly\n",
      "109. Sign up for the Fashion Statement newsletter: our free fashion email\n",
      "110. Sign up for the Guardian Documentaries newsletter: our free short film email\n",
      "111. Guardian Traveller newsletter: Sign up for our free holidays email\n",
      "112. Sign up for the Feast newsletter: our free Guardian food email\n",
      "113. We love: fashion fixes for the week ahead – in pictures\n",
      "114. A look into Melbourne’s live music scene over 50 years – in pictures\n",
      "115. Dyeing art: Ptolemy Mann’s vibrant thread paintings – in pictures\n",
      "116. Original Observer Photography\n",
      "117. ‘There aren’t many fields, so the children play around the pier’: Jelly Febrian’s best phone picture\n",
      "118. The week around the world in 20 pictures\n"
     ]
    }
   ],
   "source": [
    "for idx, headline in enumerate(news_headlines, start=1):\n",
    "    print(f\"{idx}. {headline}\")"
   ]
  },
  {
   "cell_type": "code",
   "execution_count": 5,
   "id": "7409d74c-75a8-4c33-b410-7534d9a90280",
   "metadata": {
    "tags": []
   },
   "outputs": [],
   "source": [
    "#Çektiğimiz başlıkları csv dosyasına aktarma\n",
    "with open(\"news_headlines.csv\", \"w\", newline=\"\", encoding=\"utf-8\") as csvfile:\n",
    "    writer = csv.writer(csvfile)\n",
    "    writer.writerow([\"Headline\"])\n",
    "    for headline in news_headlines:\n",
    "        writer.writerow([headline])"
   ]
  },
  {
   "cell_type": "code",
   "execution_count": null,
   "id": "240d7480-5198-42c3-bc48-01895bfd6c85",
   "metadata": {},
   "outputs": [],
   "source": []
  },
  {
   "cell_type": "code",
   "execution_count": null,
   "id": "c6fcb52b-8138-4aeb-a0b0-5e51a090d5b0",
   "metadata": {},
   "outputs": [],
   "source": []
  }
 ],
 "metadata": {
  "kernelspec": {
   "display_name": "Python 3 (ipykernel)",
   "language": "python",
   "name": "python3"
  },
  "language_info": {
   "codemirror_mode": {
    "name": "ipython",
    "version": 3
   },
   "file_extension": ".py",
   "mimetype": "text/x-python",
   "name": "python",
   "nbconvert_exporter": "python",
   "pygments_lexer": "ipython3",
   "version": "3.11.5"
  }
 },
 "nbformat": 4,
 "nbformat_minor": 5
}
